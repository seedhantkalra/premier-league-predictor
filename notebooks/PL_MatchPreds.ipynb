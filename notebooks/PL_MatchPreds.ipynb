{
 "cells": [
  {
   "cell_type": "code",
   "execution_count": 18,
   "id": "5598f59b",
   "metadata": {},
   "outputs": [
    {
     "name": "stdout",
     "output_type": "stream",
     "text": [
      "✅ Combined 21 files\n",
      "📊 Total matches: 7902\n",
      "📄 Saved as: ../data/all_seasons_combined.csv\n"
     ]
    }
   ],
   "source": [
    "# Script to combine multiple seasons df into one df\n",
    "\n",
    "import pandas as pd\n",
    "import os\n",
    "from glob import glob\n",
    "\n",
    "# Step 1: Point to the folder with all your CSVs\n",
    "data_folder = \"../data\"\n",
    "csv_files = sorted(glob(os.path.join(data_folder, \"*_full.csv\")))\n",
    "\n",
    "# Step 2: Combine all CSVs\n",
    "all_data = []\n",
    "for file in csv_files:\n",
    "    df = pd.read_csv(file)\n",
    "    df['source_file'] = os.path.basename(file)  # optional: track file of origin\n",
    "    all_data.append(df)\n",
    "\n",
    "combined_df = pd.concat(all_data, ignore_index=True)\n",
    "\n",
    "# Step 3: Save the combined file\n",
    "combined_df.to_csv(\"../data/all_seasons_combined.csv\", index=False)\n",
    "\n",
    "# Step 4: Show basic info\n",
    "print(f\"✅ Combined {len(csv_files)} files\")\n",
    "print(f\"📊 Total matches: {len(combined_df)}\")\n",
    "print(\"📄 Saved as: ../data/all_seasons_combined.csv\")"
   ]
  },
  {
   "cell_type": "code",
   "execution_count": 19,
   "id": "2437d69a",
   "metadata": {},
   "outputs": [
    {
     "name": "stdout",
     "output_type": "stream",
     "text": [
      "✅ Cleaned dataset saved as: data/all_seasons_cleaned.csv\n"
     ]
    }
   ],
   "source": [
    "# script to clean the data\n",
    "\n",
    "\n",
    "# Load the full dataset\n",
    "df = pd.read_csv(\"../data/all_seasons_combined.csv\")\n",
    "\n",
    "# ✅ 1. Drop 'date' and 'source_file'\n",
    "df.drop(columns=[\"date\", \"source_file\"], inplace=True, errors='ignore')\n",
    "\n",
    "# ✅ 2. Convert odds to float\n",
    "for col in [\"h_odd\", \"d_odd\", \"a_odd\"]:\n",
    "    df[col] = pd.to_numeric(df[col], errors=\"coerce\")\n",
    "\n",
    "# ✅ 3. Extract starting year of season\n",
    "df['season'] = df['season'].str[:4]\n",
    "\n",
    "# ✅ 4. Split match_name\n",
    "df[['home_team', 'away_team']] = df['match_name'].str.split(\" vs \", expand=True)\n",
    "\n",
    "# ✅ 5. Split result into home/away score\n",
    "df[['home_score', 'away_score']] = df['result'].str.split(\"-\", expand=True).astype(\"Int64\")\n",
    "\n",
    "# ✅ 6. Determine winner\n",
    "def get_winner(row):\n",
    "    if pd.isnull(row['home_score']) or pd.isnull(row['away_score']):\n",
    "        return \"UNKNOWN\"\n",
    "    elif row['home_score'] > row['away_score']:\n",
    "        return \"HOME_TEAM\"\n",
    "    elif row['home_score'] < row['away_score']:\n",
    "        return \"AWAY_TEAM\"\n",
    "    else:\n",
    "        return \"DRAW\"\n",
    "\n",
    "df['winner'] = df.apply(get_winner, axis=1)\n",
    "\n",
    "# ✅ 7. Save cleaned version\n",
    "df.to_csv(\"../data/all_seasons_cleaned.csv\", index=False)\n",
    "print(\"✅ Cleaned dataset saved as: data/all_seasons_cleaned.csv\")\n"
   ]
  },
  {
   "cell_type": "code",
   "execution_count": 20,
   "id": "3060bcb4",
   "metadata": {},
   "outputs": [
    {
     "name": "stdout",
     "output_type": "stream",
     "text": [
      "✅ Cleaned odds and removed result column.\n",
      "📄 Saved as: ../data/all_seasons_ready.csv\n"
     ]
    }
   ],
   "source": [
    "# script for more cleaning and feature engineering of data\n",
    "\n",
    "# Load cleaned data from previous step\n",
    "df = pd.read_csv(\"../data/all_seasons_cleaned.csv\")\n",
    "\n",
    "# ✅ Drop the 'result' column (no longer needed)\n",
    "df.drop(columns=['result'], inplace=True, errors='ignore')\n",
    "\n",
    "# ✅ Convert American odds to Decimal odds\n",
    "def american_to_decimal(odd):\n",
    "    if pd.isnull(odd):\n",
    "        return None\n",
    "    try:\n",
    "        odd = float(odd)\n",
    "        if odd > 0:\n",
    "            return round(1 + odd / 100, 2)\n",
    "        else:\n",
    "            return round(1 + 100 / abs(odd), 2)\n",
    "    except:\n",
    "        return None\n",
    "\n",
    "for col in ['h_odd', 'd_odd', 'a_odd']:\n",
    "    df[col] = df[col].apply(american_to_decimal)\n",
    "\n",
    "# Save updated DataFrame\n",
    "df.to_csv(\"../data/all_seasons_ready.csv\", index=False)\n",
    "\n",
    "print(\"✅ Cleaned odds and removed result column.\")\n",
    "print(\"📄 Saved as: ../data/all_seasons_ready.csv\")\n"
   ]
  },
  {
   "cell_type": "code",
   "execution_count": null,
   "id": "520c5cd3",
   "metadata": {},
   "outputs": [],
   "source": []
  }
 ],
 "metadata": {
  "kernelspec": {
   "display_name": ".venv",
   "language": "python",
   "name": "python3"
  },
  "language_info": {
   "codemirror_mode": {
    "name": "ipython",
    "version": 3
   },
   "file_extension": ".py",
   "mimetype": "text/x-python",
   "name": "python",
   "nbconvert_exporter": "python",
   "pygments_lexer": "ipython3",
   "version": "3.11.9"
  }
 },
 "nbformat": 4,
 "nbformat_minor": 5
}
