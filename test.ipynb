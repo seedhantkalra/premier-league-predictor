{
 "cells": [
  {
   "cell_type": "code",
   "execution_count": 3,
   "id": "03c548cb",
   "metadata": {},
   "outputs": [],
   "source": [
    "import pandas as pd"
   ]
  },
  {
   "cell_type": "code",
   "execution_count": 7,
   "id": "863df1a4",
   "metadata": {},
   "outputs": [],
   "source": [
    "df = pd.read_csv('data/all_seasons_ready.csv')"
   ]
  },
  {
   "cell_type": "code",
   "execution_count": 8,
   "id": "b1481eb5",
   "metadata": {},
   "outputs": [
    {
     "data": {
      "text/html": [
       "<div>\n",
       "<style scoped>\n",
       "    .dataframe tbody tr th:only-of-type {\n",
       "        vertical-align: middle;\n",
       "    }\n",
       "\n",
       "    .dataframe tbody tr th {\n",
       "        vertical-align: top;\n",
       "    }\n",
       "\n",
       "    .dataframe thead th {\n",
       "        text-align: right;\n",
       "    }\n",
       "</style>\n",
       "<table border=\"1\" class=\"dataframe\">\n",
       "  <thead>\n",
       "    <tr style=\"text-align: right;\">\n",
       "      <th></th>\n",
       "      <th>season</th>\n",
       "      <th>match_name</th>\n",
       "      <th>h_odd</th>\n",
       "      <th>d_odd</th>\n",
       "      <th>a_odd</th>\n",
       "      <th>home_team</th>\n",
       "      <th>away_team</th>\n",
       "      <th>home_score</th>\n",
       "      <th>away_score</th>\n",
       "      <th>winner</th>\n",
       "    </tr>\n",
       "  </thead>\n",
       "  <tbody>\n",
       "    <tr>\n",
       "      <th>0</th>\n",
       "      <td>2004</td>\n",
       "      <td>Birmingham vs Arsenal</td>\n",
       "      <td>4.01</td>\n",
       "      <td>3.40</td>\n",
       "      <td>1.80</td>\n",
       "      <td>Birmingham</td>\n",
       "      <td>Arsenal</td>\n",
       "      <td>2</td>\n",
       "      <td>1</td>\n",
       "      <td>HOME_TEAM</td>\n",
       "    </tr>\n",
       "    <tr>\n",
       "      <th>1</th>\n",
       "      <td>2004</td>\n",
       "      <td>Bolton vs Everton</td>\n",
       "      <td>1.85</td>\n",
       "      <td>3.34</td>\n",
       "      <td>3.98</td>\n",
       "      <td>Bolton</td>\n",
       "      <td>Everton</td>\n",
       "      <td>3</td>\n",
       "      <td>2</td>\n",
       "      <td>HOME_TEAM</td>\n",
       "    </tr>\n",
       "    <tr>\n",
       "      <th>2</th>\n",
       "      <td>2004</td>\n",
       "      <td>Charlton vs Crystal Palace</td>\n",
       "      <td>2.64</td>\n",
       "      <td>3.45</td>\n",
       "      <td>2.34</td>\n",
       "      <td>Charlton</td>\n",
       "      <td>Crystal Palace</td>\n",
       "      <td>2</td>\n",
       "      <td>2</td>\n",
       "      <td>DRAW</td>\n",
       "    </tr>\n",
       "    <tr>\n",
       "      <th>3</th>\n",
       "      <td>2004</td>\n",
       "      <td>Fulham vs Norwich</td>\n",
       "      <td>2.66</td>\n",
       "      <td>3.43</td>\n",
       "      <td>2.36</td>\n",
       "      <td>Fulham</td>\n",
       "      <td>Norwich</td>\n",
       "      <td>6</td>\n",
       "      <td>0</td>\n",
       "      <td>HOME_TEAM</td>\n",
       "    </tr>\n",
       "    <tr>\n",
       "      <th>4</th>\n",
       "      <td>2004</td>\n",
       "      <td>Liverpool vs Aston Villa</td>\n",
       "      <td>1.63</td>\n",
       "      <td>3.41</td>\n",
       "      <td>5.33</td>\n",
       "      <td>Liverpool</td>\n",
       "      <td>Aston Villa</td>\n",
       "      <td>2</td>\n",
       "      <td>1</td>\n",
       "      <td>HOME_TEAM</td>\n",
       "    </tr>\n",
       "  </tbody>\n",
       "</table>\n",
       "</div>"
      ],
      "text/plain": [
       "   season                  match_name  h_odd  d_odd  a_odd   home_team  \\\n",
       "0    2004       Birmingham vs Arsenal   4.01   3.40   1.80  Birmingham   \n",
       "1    2004           Bolton vs Everton   1.85   3.34   3.98      Bolton   \n",
       "2    2004  Charlton vs Crystal Palace   2.64   3.45   2.34    Charlton   \n",
       "3    2004           Fulham vs Norwich   2.66   3.43   2.36      Fulham   \n",
       "4    2004    Liverpool vs Aston Villa   1.63   3.41   5.33   Liverpool   \n",
       "\n",
       "        away_team  home_score  away_score     winner  \n",
       "0         Arsenal           2           1  HOME_TEAM  \n",
       "1         Everton           3           2  HOME_TEAM  \n",
       "2  Crystal Palace           2           2       DRAW  \n",
       "3         Norwich           6           0  HOME_TEAM  \n",
       "4     Aston Villa           2           1  HOME_TEAM  "
      ]
     },
     "execution_count": 8,
     "metadata": {},
     "output_type": "execute_result"
    }
   ],
   "source": [
    "df.head()"
   ]
  },
  {
   "cell_type": "code",
   "execution_count": null,
   "id": "9d487a26",
   "metadata": {},
   "outputs": [],
   "source": []
  }
 ],
 "metadata": {
  "kernelspec": {
   "display_name": ".venv",
   "language": "python",
   "name": "python3"
  },
  "language_info": {
   "codemirror_mode": {
    "name": "ipython",
    "version": 3
   },
   "file_extension": ".py",
   "mimetype": "text/x-python",
   "name": "python",
   "nbconvert_exporter": "python",
   "pygments_lexer": "ipython3",
   "version": "3.11.9"
  }
 },
 "nbformat": 4,
 "nbformat_minor": 5
}
